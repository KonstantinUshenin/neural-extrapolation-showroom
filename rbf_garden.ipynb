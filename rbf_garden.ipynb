{
 "cells": [
  {
   "cell_type": "code",
   "execution_count": 25,
   "id": "da6317e7",
   "metadata": {},
   "outputs": [],
   "source": [
    "import matplotlib\n",
    "matplotlib.use('Agg')\n",
    "\n",
    "import os\n",
    "from tqdm import tqdm\n",
    "from ood_garden import *"
   ]
  },
  {
   "cell_type": "code",
   "execution_count": 26,
   "id": "7ea15c1f",
   "metadata": {},
   "outputs": [],
   "source": [
    "FOLDER_OUT0 = 'rbf_garden_basic'\n",
    "FOLDER_OUT1 = 'rbf_garden_bound3'\n",
    "FOLDER_OUT2 = 'rbf_garden_epsilon'\n",
    "FOLDER_OUT3 = 'rbf_garden_smooth'\n",
    "\n",
    "NORMS = ['cityblock', 'euclidean', 'chebyshev']\n",
    "\n",
    "KERNELS = ['multiquadric',\n",
    "            'inverse',\n",
    "            'gaussian',\n",
    "            'linear',\n",
    "            'cubic',\n",
    "            'quintic',\n",
    "            'thin_plate']\n",
    "\n",
    "\n",
    "KERNELS_WITH_EPSILON = ['multiquadric',\n",
    "            'inverse',\n",
    "            'gaussian']\n",
    "\n",
    "EPSILON = np.linspace(0,1,50)[1:]\n",
    "\n",
    "SMOOTH = [0.0, 0.0000001, 0.000001, 0.00001, 0.0001, 0.001, 0.01, 0.1, 1., 10.]"
   ]
  },
  {
   "cell_type": "code",
   "execution_count": 27,
   "id": "c0e47744",
   "metadata": {},
   "outputs": [],
   "source": [
    "os.makedirs(FOLDER_OUT0, exist_ok=True)\n",
    "os.makedirs(FOLDER_OUT1, exist_ok=True)\n",
    "os.makedirs(FOLDER_OUT2, exist_ok=True)\n",
    "os.makedirs(FOLDER_OUT3, exist_ok=True)"
   ]
  },
  {
   "cell_type": "code",
   "execution_count": 13,
   "id": "b8e1ef5c",
   "metadata": {},
   "outputs": [
    {
     "name": "stderr",
     "output_type": "stream",
     "text": [
      "  0%|                                                     | 0/3 [00:00<?, ?it/s]\n",
      "  0%|                                                     | 0/7 [00:00<?, ?it/s]\u001b[A\n",
      " 14%|██████▍                                      | 1/7 [00:00<00:02,  2.04it/s]\u001b[A\n",
      " 29%|████████████▊                                | 2/7 [00:01<00:02,  1.76it/s]\u001b[A\n",
      " 43%|███████████████████▎                         | 3/7 [00:01<00:02,  1.67it/s]\u001b[A\n",
      " 57%|█████████████████████████▋                   | 4/7 [00:02<00:01,  2.10it/s]\u001b[A\n",
      " 71%|████████████████████████████████▏            | 5/7 [00:02<00:01,  1.67it/s]\u001b[A\n",
      " 86%|██████████████████████████████████████▌      | 6/7 [00:03<00:00,  1.50it/s]\u001b[A\n",
      "100%|█████████████████████████████████████████████| 7/7 [00:04<00:00,  1.56it/s]\u001b[A\n",
      " 33%|███████████████                              | 1/3 [00:04<00:08,  4.25s/it]\u001b[A\n",
      "  0%|                                                     | 0/7 [00:00<?, ?it/s]\u001b[A\n",
      " 14%|██████▍                                      | 1/7 [00:00<00:03,  1.89it/s]\u001b[A\n",
      " 29%|████████████▊                                | 2/7 [00:01<00:02,  1.68it/s]\u001b[A\n",
      " 43%|███████████████████▎                         | 3/7 [00:01<00:02,  1.61it/s]\u001b[A\n",
      " 57%|█████████████████████████▋                   | 4/7 [00:02<00:01,  1.93it/s]\u001b[A\n",
      " 71%|████████████████████████████████▏            | 5/7 [00:03<00:01,  1.57it/s]\u001b[A\n",
      " 86%|██████████████████████████████████████▌      | 6/7 [00:03<00:00,  1.41it/s]\u001b[A\n",
      "100%|█████████████████████████████████████████████| 7/7 [00:04<00:00,  1.46it/s]\u001b[A\n",
      " 67%|██████████████████████████████               | 2/3 [00:08<00:04,  4.41s/it]\u001b[A\n",
      "  0%|                                                     | 0/7 [00:00<?, ?it/s]\u001b[A\n",
      " 14%|██████▍                                      | 1/7 [00:00<00:02,  2.05it/s]\u001b[A\n",
      " 29%|████████████▊                                | 2/7 [00:01<00:02,  1.92it/s]\u001b[A\n",
      " 43%|███████████████████▎                         | 3/7 [00:01<00:02,  1.80it/s]\u001b[A\n",
      " 57%|█████████████████████████▋                   | 4/7 [00:01<00:01,  2.18it/s]\u001b[A\n",
      " 71%|████████████████████████████████▏            | 5/7 [00:02<00:01,  1.59it/s]\u001b[A\n",
      " 86%|██████████████████████████████████████▌      | 6/7 [00:03<00:00,  1.46it/s]\u001b[A\n",
      "100%|█████████████████████████████████████████████| 7/7 [00:04<00:00,  1.53it/s]\u001b[A\n",
      "100%|█████████████████████████████████████████████| 3/3 [00:13<00:00,  4.34s/it]\u001b[A\n"
     ]
    }
   ],
   "source": [
    "for norm in tqdm(NORMS):\n",
    "    for kernel in tqdm(KERNELS, leave=False):\n",
    "\n",
    "        x_series, y_series, v_series = flower_0()\n",
    "        image = rbf_analysis(x_series, y_series, v_series, function=kernel, norm=norm)\n",
    "\n",
    "        draw_flower(x_series, y_series, v_series, image,\n",
    "                   title=f'RBF, {norm}, {kernel}, avg. eps.')\n",
    "        plt.savefig(os.path.join(FOLDER_OUT0, f'rbf_{norm}_{kernel}_avgeps.png'))\n",
    "        plt.close('all')"
   ]
  },
  {
   "cell_type": "code",
   "execution_count": 14,
   "id": "61123e22",
   "metadata": {},
   "outputs": [
    {
     "name": "stderr",
     "output_type": "stream",
     "text": [
      "  0%|                                                     | 0/3 [00:00<?, ?it/s]\n",
      "  0%|                                                     | 0/7 [00:00<?, ?it/s]\u001b[A\n",
      " 14%|██████▍                                      | 1/7 [00:00<00:02,  2.12it/s]\u001b[A\n",
      " 29%|████████████▊                                | 2/7 [00:01<00:02,  1.84it/s]\u001b[A\n",
      " 43%|███████████████████▎                         | 3/7 [00:01<00:02,  1.75it/s]\u001b[A\n",
      " 57%|█████████████████████████▋                   | 4/7 [00:01<00:01,  2.17it/s]\u001b[A\n",
      " 71%|████████████████████████████████▏            | 5/7 [00:02<00:01,  1.71it/s]\u001b[A\n",
      " 86%|██████████████████████████████████████▌      | 6/7 [00:03<00:00,  1.52it/s]\u001b[A\n",
      "100%|█████████████████████████████████████████████| 7/7 [00:04<00:00,  1.58it/s]\u001b[A\n",
      " 33%|███████████████                              | 1/3 [00:04<00:08,  4.14s/it]\u001b[A\n",
      "  0%|                                                     | 0/7 [00:00<?, ?it/s]\u001b[A\n",
      " 14%|██████▍                                      | 1/7 [00:00<00:03,  1.87it/s]\u001b[A\n",
      " 29%|████████████▊                                | 2/7 [00:01<00:02,  1.78it/s]\u001b[A\n",
      " 43%|███████████████████▎                         | 3/7 [00:01<00:02,  1.65it/s]\u001b[A\n",
      " 57%|█████████████████████████▋                   | 4/7 [00:02<00:01,  1.97it/s]\u001b[A\n",
      " 71%|████████████████████████████████▏            | 5/7 [00:02<00:01,  1.57it/s]\u001b[A\n",
      " 86%|██████████████████████████████████████▌      | 6/7 [00:03<00:00,  1.41it/s]\u001b[A\n",
      "100%|█████████████████████████████████████████████| 7/7 [00:04<00:00,  1.44it/s]\u001b[A\n",
      " 67%|██████████████████████████████               | 2/3 [00:08<00:04,  4.36s/it]\u001b[A\n",
      "  0%|                                                     | 0/7 [00:00<?, ?it/s]\u001b[A\n",
      " 14%|██████▍                                      | 1/7 [00:00<00:03,  1.64it/s]\u001b[A\n",
      " 29%|████████████▊                                | 2/7 [00:01<00:02,  1.79it/s]\u001b[A\n",
      " 43%|███████████████████▎                         | 3/7 [00:01<00:02,  1.73it/s]\u001b[A\n",
      " 57%|█████████████████████████▋                   | 4/7 [00:02<00:01,  2.12it/s]\u001b[A\n",
      " 71%|████████████████████████████████▏            | 5/7 [00:02<00:01,  1.70it/s]\u001b[A\n",
      " 86%|██████████████████████████████████████▌      | 6/7 [00:03<00:00,  1.52it/s]\u001b[A\n",
      "100%|█████████████████████████████████████████████| 7/7 [00:04<00:00,  1.57it/s]\u001b[A\n",
      "100%|█████████████████████████████████████████████| 3/3 [00:12<00:00,  4.29s/it]\u001b[A\n"
     ]
    }
   ],
   "source": [
    "for norm in tqdm(NORMS):\n",
    "    for kernel in tqdm(KERNELS, leave=False):\n",
    "\n",
    "        x_series, y_series, v_series = flower_0()\n",
    "        image = rbf_analysis(x_series, y_series, v_series, function=kernel, norm=norm)\n",
    "\n",
    "        draw_flower(x_series, y_series, v_series, image,\n",
    "                   title=f'RBF, {norm}, {kernel}, avg. eps.',\n",
    "                vmin=-3, vmax=3)\n",
    "        plt.savefig(os.path.join(FOLDER_OUT1, f'rbf_{norm}_{kernel}_avgeps.png'))\n",
    "        plt.close('all')"
   ]
  },
  {
   "cell_type": "code",
   "execution_count": 22,
   "id": "f25da88a",
   "metadata": {},
   "outputs": [
    {
     "name": "stderr",
     "output_type": "stream",
     "text": [
      "  0%|                                                     | 0/3 [00:00<?, ?it/s]\n",
      "  0%|                                                     | 0/3 [00:00<?, ?it/s]\u001b[A\n",
      " 33%|███████████████                              | 1/3 [00:23<00:47, 23.82s/it]\u001b[A\n",
      " 67%|██████████████████████████████               | 2/3 [00:50<00:25, 25.37s/it]\u001b[A\n",
      "100%|█████████████████████████████████████████████| 3/3 [01:21<00:00, 27.87s/it]\u001b[A\n",
      " 33%|███████████████                              | 1/3 [01:21<02:42, 81.12s/it]\u001b[A\n",
      "  0%|                                                     | 0/3 [00:00<?, ?it/s]\u001b[A\n",
      " 33%|███████████████                              | 1/3 [00:26<00:53, 26.51s/it]\u001b[A\n",
      " 67%|██████████████████████████████               | 2/3 [00:56<00:28, 28.31s/it]\u001b[A\n",
      "100%|█████████████████████████████████████████████| 3/3 [01:29<00:00, 30.51s/it]\u001b[A\n",
      " 67%|██████████████████████████████               | 2/3 [02:50<01:25, 85.88s/it]\u001b[A\n",
      "  0%|                                                     | 0/3 [00:00<?, ?it/s]\u001b[A\n",
      " 33%|███████████████                              | 1/3 [00:24<00:49, 24.63s/it]\u001b[A\n",
      " 67%|██████████████████████████████               | 2/3 [00:51<00:25, 25.98s/it]\u001b[A\n",
      "100%|█████████████████████████████████████████████| 3/3 [01:22<00:00, 28.11s/it]\u001b[A\n",
      "100%|█████████████████████████████████████████████| 3/3 [04:12<00:00, 84.18s/it]\u001b[A\n"
     ]
    }
   ],
   "source": [
    "for norm in tqdm(NORMS):\n",
    "    for kernel in tqdm(KERNELS_WITH_EPSILON, leave=False):\n",
    "        for eps in EPSILON:\n",
    "\n",
    "            x_series, y_series, v_series = flower_0()\n",
    "            image = rbf_analysis(x_series, y_series, v_series, function=kernel, norm=norm, epsilon=eps)\n",
    "\n",
    "            draw_flower(x_series, y_series, v_series, image,\n",
    "                       title=f'RBF, {norm}, {kernel}, {eps:.2f}')\n",
    "            plt.savefig(os.path.join(FOLDER_OUT2, f'rbf_{norm}_{kernel}_{eps:.2f}.png'))\n",
    "            plt.close('all')"
   ]
  },
  {
   "cell_type": "code",
   "execution_count": 31,
   "id": "fc0872c6",
   "metadata": {},
   "outputs": [
    {
     "name": "stderr",
     "output_type": "stream",
     "text": [
      "  0%|                                                     | 0/3 [00:00<?, ?it/s]\n",
      "  0%|                                                     | 0/7 [00:00<?, ?it/s]\u001b[A\n",
      " 14%|██████▍                                      | 1/7 [00:05<00:32,  5.37s/it]\u001b[A\n",
      " 29%|████████████▊                                | 2/7 [00:10<00:26,  5.35s/it]\u001b[A\n",
      " 43%|███████████████████▎                         | 3/7 [00:16<00:22,  5.68s/it]\u001b[A\n",
      " 57%|█████████████████████████▋                   | 4/7 [00:19<00:13,  4.57s/it]\u001b[A\n",
      " 71%|████████████████████████████████▏            | 5/7 [00:27<00:11,  5.87s/it]\u001b[A\n",
      " 86%|██████████████████████████████████████▌      | 6/7 [00:35<00:06,  6.62s/it]\u001b[A\n",
      "100%|█████████████████████████████████████████████| 7/7 [00:41<00:00,  6.42s/it]\u001b[A\n",
      " 33%|███████████████                              | 1/3 [00:41<01:23, 41.91s/it]\u001b[A\n",
      "  0%|                                                     | 0/7 [00:00<?, ?it/s]\u001b[A\n",
      " 14%|██████▍                                      | 1/7 [00:05<00:32,  5.36s/it]\u001b[A\n",
      " 29%|████████████▊                                | 2/7 [00:11<00:29,  5.80s/it]\u001b[A\n",
      " 43%|███████████████████▎                         | 3/7 [00:18<00:24,  6.16s/it]\u001b[A\n",
      " 57%|█████████████████████████▋                   | 4/7 [00:21<00:15,  5.26s/it]\u001b[A\n",
      " 71%|████████████████████████████████▏            | 5/7 [00:30<00:12,  6.44s/it]\u001b[A\n",
      " 86%|██████████████████████████████████████▌      | 6/7 [00:39<00:07,  7.18s/it]\u001b[A\n",
      "100%|█████████████████████████████████████████████| 7/7 [00:45<00:00,  6.91s/it]\u001b[A\n",
      " 67%|██████████████████████████████               | 2/3 [01:27<00:43, 43.99s/it]\u001b[A\n",
      "  0%|                                                     | 0/7 [00:00<?, ?it/s]\u001b[A\n",
      " 14%|██████▍                                      | 1/7 [00:05<00:31,  5.22s/it]\u001b[A\n",
      " 29%|████████████▊                                | 2/7 [00:10<00:27,  5.41s/it]\u001b[A\n",
      " 43%|███████████████████▎                         | 3/7 [00:17<00:23,  5.82s/it]\u001b[A\n",
      " 57%|█████████████████████████▋                   | 4/7 [00:20<00:14,  4.80s/it]\u001b[A\n",
      " 71%|████████████████████████████████▏            | 5/7 [00:28<00:12,  6.06s/it]\u001b[A\n",
      " 86%|██████████████████████████████████████▌      | 6/7 [00:36<00:06,  6.73s/it]\u001b[A\n",
      "100%|█████████████████████████████████████████████| 7/7 [00:42<00:00,  6.51s/it]\u001b[A\n",
      "100%|█████████████████████████████████████████████| 3/3 [02:10<00:00, 43.35s/it]\u001b[A\n"
     ]
    }
   ],
   "source": [
    "for norm in tqdm(NORMS):\n",
    "    for kernel in tqdm(KERNELS, leave=False):\n",
    "        for sm in SMOOTH:\n",
    "\n",
    "            x_series, y_series, v_series = flower_0()\n",
    "            image = rbf_analysis(x_series, y_series, v_series, function=kernel, norm=norm, smooth=sm)\n",
    "\n",
    "            draw_flower(x_series, y_series, v_series, image,\n",
    "                       title=f'RBF, {norm}, {kernel}, avg. eps., smooth={sm:.08f}')\n",
    "            plt.savefig(os.path.join(FOLDER_OUT3, f'rbf_{norm}_{kernel}_avgesp_{sm:.08f}.png'))\n",
    "            plt.close('all')"
   ]
  },
  {
   "cell_type": "code",
   "execution_count": null,
   "id": "fc82c714",
   "metadata": {},
   "outputs": [],
   "source": []
  }
 ],
 "metadata": {
  "kernelspec": {
   "display_name": "Python 3 (ipykernel)",
   "language": "python",
   "name": "python3"
  },
  "language_info": {
   "codemirror_mode": {
    "name": "ipython",
    "version": 3
   },
   "file_extension": ".py",
   "mimetype": "text/x-python",
   "name": "python",
   "nbconvert_exporter": "python",
   "pygments_lexer": "ipython3",
   "version": "3.9.12"
  }
 },
 "nbformat": 4,
 "nbformat_minor": 5
}
